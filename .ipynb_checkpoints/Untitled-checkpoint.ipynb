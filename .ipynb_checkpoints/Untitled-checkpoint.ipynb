{
 "cells": [
  {
   "cell_type": "markdown",
   "id": "016ccebb-0a3d-4b11-92e3-5f3ad1669a32",
   "metadata": {},
   "source": [
    "### Example of a full procedure on CMD\n",
    "---\n",
    "<b>METIS, Éveha International</b><br>\n",
    "Author : Thomas Aubertier (thomas.aubertier@etu.sorbonne-universite.fr)\n",
    "---"
   ]
  },
  {
   "cell_type": "markdown",
   "id": "18ba65c4-5a3b-40c4-96ec-d78280e548b7",
   "metadata": {},
   "source": [
    "### ``0`` Import\n",
    "Importing required libraries"
   ]
  },
  {
   "cell_type": "code",
   "execution_count": 3,
   "id": "a7198031-23e9-45d7-b323-82f2b37b5b81",
   "metadata": {},
   "outputs": [],
   "source": [
    "import os\n",
    "import numpy as np\n",
    "import matplotlib.pyplot as plt\n",
    "import pandas as pd\n",
    "\n",
    "import CONFIG\n",
    "import EM_CMD"
   ]
  },
  {
   "cell_type": "markdown",
   "id": "be250399-57e6-42f1-837e-699ac1e0b283",
   "metadata": {},
   "source": [
    "### ``1`` Ball calibration\n",
    "This step can be done at any point before the final calibration.\n",
    "\n",
    "Electromagnetic devices on such prospections have two distincts constants arrays for phase and quadrature signal, labelled as *'coeff_c_ph'* and *'coeff_c_qu'*.\n",
    "The latter is known since given on the device notice, but the first one may need to be calculated beforehand.\n",
    "\n",
    "``FORTRAN_ball_calibr`` compute the inphase coefficient for each coil given :\n",
    "* Ball calibration file (must be done by user with wanted configuration)\n",
    "* Configuration type\n",
    "* Distance between each coil and the transmitter coil\n",
    "* Ball radius\n",
    "* Height of device during the procedure (z)\n",
    "* Starting coordinate of trajectory (x)\n",
    "* Ending coordinate of trajectory (x)\n",
    "* [opt] Offset (y)\n",
    "* [opt] Step between each point (x)\n",
    "* [opt] Index of the bucking coil (from 1 to the number of coil, 0 is none)"
   ]
  },
  {
   "cell_type": "code",
   "execution_count": 4,
   "id": "867baad5-2e28-4879-801a-4a634fc30500",
   "metadata": {},
   "outputs": [
    {
     "name": "stdout",
     "output_type": "stream",
     "text": [
      "  Programme d'etalonnage à la boule des dispositif slingram frequentiel\n",
      " le calcul est base sur keller et friknesht\n",
      " le champ est considere uniforme sur le volume de la boule\n",
      " initialisation à partir du fichier _boule_.cfg         \n",
      "coeffs = [np.float64(0.847109809868719), np.float64(0.8584897672408652), np.float64(0.4039170248830429)]\n"
     ]
    }
   ],
   "source": [
    "coeffs = EM_CMD.FORTRAN_ball_calibr(\"bminilo1.dat\",\"VCP\",[32,71,118],2,17,15,100,y=0,step=5,bucking_coil=0,plot=False)"
   ]
  },
  {
   "cell_type": "markdown",
   "id": "904b83d3-9a91-4d0e-aef7-749aa1c3f553",
   "metadata": {},
   "source": [
    "We can then create a new device using the said coefficients...."
   ]
  },
  {
   "cell_type": "code",
   "execution_count": 6,
   "id": "22d0f78d-73f4-4884-838c-679a3f5b86db",
   "metadata": {},
   "outputs": [
    {
     "name": "stdout",
     "output_type": "stream",
     "text": [
      "\u001b[0;1;33m\n",
      "  ^                                       ^  \n",
      " |?| Appareil (mini3L, VCP) déjà ajouté. |?| \n",
      "  v                                       v  \n",
      "\u001b[0m\n"
     ]
    }
   ],
   "source": [
    "app_data = EM_CMD.JSON_add_device('mini3L','VCP',3,[30000],gps=True,gps_dec=[0.25,-0.2],TR_l=[0.32,0.71,1.18],\\\n",
    "TR_t=[0,0,0],height=0.1,bucking_coil=0,coeff_c_ph=np.round(coeffs,4).tolist(),coeff_c_qu=[0.00599,0.0290,0.0785],autosave=True)"
   ]
  },
  {
   "cell_type": "markdown",
   "id": "39281132-26e0-4425-8ba8-cbe31ca12e4e",
   "metadata": {},
   "source": [
    "... or modify a preexisting one by setting *'coeff_c_ph'* with its new value."
   ]
  },
  {
   "cell_type": "code",
   "execution_count": null,
   "id": "e80f7437-27cd-44bc-a620-fcda138cf531",
   "metadata": {},
   "outputs": [],
   "source": [
    "# From loaded device object\n",
    "app_data = EM_CMD.JSON_modify_device(app_data,{\"coeff_c_ph\" : np.round(coeffs,4).tolist()})\n",
    "# From index in saved device configurations\n",
    "EM_CMD.JSON_print_devices()\n",
    "app_data = EM_CMD.JSON_modify_device(1,{\"coeff_c_ph\" : np.round(coeffs,4).tolist()})"
   ]
  }
 ],
 "metadata": {
  "kernelspec": {
   "display_name": "spyder-env",
   "language": "python",
   "name": "spyder-env"
  },
  "language_info": {
   "codemirror_mode": {
    "name": "ipython",
    "version": 3
   },
   "file_extension": ".py",
   "mimetype": "text/x-python",
   "name": "python",
   "nbconvert_exporter": "python",
   "pygments_lexer": "ipython3",
   "version": "3.13.3"
  }
 },
 "nbformat": 4,
 "nbformat_minor": 5
}
