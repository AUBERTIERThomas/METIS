{
 "cells": [
  {
   "cell_type": "markdown",
   "id": "551bb747-8985-4a76-8edb-fa44d65edec1",
   "metadata": {},
   "source": [
    "### JSON files management\n",
    "---\n",
    "<b>METIS, Éveha International</b><br>\n",
    "Author : Thomas Aubertier (thomas.aubertier@etu.sorbonne-universite.fr)\n",
    "---"
   ]
  },
  {
   "cell_type": "markdown",
   "id": "0ca56ae8-372d-422a-b491-c1d22f1a181a",
   "metadata": {},
   "source": [
    "This notebook describe how to save and use data related to devices."
   ]
  },
  {
   "cell_type": "markdown",
   "id": "e94e0225-0fd1-4e4a-a07b-b2fdaa185161",
   "metadata": {
    "jp-MarkdownHeadingCollapsed": true
   },
   "source": [
    "### ``0`` Import"
   ]
  },
  {
   "cell_type": "markdown",
   "id": "73e3fe7a-ca02-4ef3-88f2-4846727b40db",
   "metadata": {},
   "source": [
    "Importing required libraries"
   ]
  },
  {
   "cell_type": "code",
   "execution_count": 1,
   "id": "45bd9a92-6cc8-4f1c-b251-8dd1df3b1662",
   "metadata": {},
   "outputs": [],
   "source": [
    "import os\n",
    "import numpy as np\n",
    "import matplotlib.pyplot as plt\n",
    "import pandas as pd\n",
    "\n",
    "import geophpy as geo\n",
    "import geophpy.emi as gemi\n",
    "import geophpy.visualization as gvis"
   ]
  },
  {
   "cell_type": "markdown",
   "id": "992d7d14-80a0-4998-9c7a-cd87e20839aa",
   "metadata": {
    "jp-MarkdownHeadingCollapsed": true
   },
   "source": [
    "### ``1`` Create and add device"
   ]
  },
  {
   "cell_type": "markdown",
   "id": "19528ec4-7e68-4ad6-b4f4-0e9c39e84562",
   "metadata": {},
   "source": [
    "Devices are dictionaries containing relevant data around the prospection.\n",
    "\n",
    "They are not directly referencing a specific device, but the configuration used at the time of the prospection. Adding a GPS antenna or changing coil positions makes a new configuration, then should correspond to a new device entry.\n",
    "\n",
    "Creating a new device configuration can be done using ``geophpy.add_device`` :\n",
    "* (app_name) Device name (not used in processes)\n",
    "* (config) Coil configuration (HCP, VCP, PAR... ,see documentation)\n",
    "* (nb_channels) Number of coils\n",
    "* (freq_list) Frequence list (in coil order, else add one value)\n",
    "* ``gps`` If got gps data (default True\n",
    "* ``gps_dec`` Shift between the GPS antenna and the device center, on both axis (should be ``[0,0]`` if none, by default), in meters\n",
    "* ``TR_l`` Distance between each coil and the transmitter coil, on lateral axis (by default 0), in meters\n",
    "* ``TR_t``Distance between each coil and the transmitter coil, on transversal axis (by default 0), in meters\n",
    "* ``height`` Height of the device during the prospection (default 0.1), in meters\n",
    "* ``bucking_coil`` Index of the bucking coil between coils (from 1 to the number of coils), if none set to 0 (default)\n",
    "* ``coeff_c_ph`` Device constant given by the maker (in phase, by default is set to an array of 1s) ; can be computed from ball calibration with ``geophpy.emi.ball_calibr``\n",
    "* ``coeff_c_qu`` Device constant given by the maker (in quadrature, by default is set to an array of 1s)\n",
    "* ``config_angles`` If ``config = \"CUS\"`` (custom), define the angles of each coil (not implemented in most procedures)\n",
    "* ``save`` Save configuration in ``geophpy`` (default True)\n",
    "* ``error_code`` Instead of returning the dictionary, return an error code as an int (default False)\n",
    "\n",
    "Output :\n",
    "* Device's configuration dictionary OR 1 if already added, else 0"
   ]
  },
  {
   "cell_type": "code",
   "execution_count": 2,
   "id": "2ba5b25d-dd74-42cc-926f-dfdc70a0128e",
   "metadata": {},
   "outputs": [],
   "source": [
    "app_data = gemi.add_device('mini3L','HCP',3,[30000],gps=True,gps_dec=[0.25,-0.2],\n",
    "                           TR_l=[0.32,0.71,1.18],TR_t=[0,0,0],height=0.1,bucking_coil=0,\n",
    "                           coeff_c_ph=[0.5982,0.9839,0.7074],coeff_c_qu=[0.00591,0.0281,0.0745],save=True)"
   ]
  },
  {
   "cell_type": "code",
   "execution_count": 3,
   "id": "48ca4b35-f215-4e3e-9173-43074bb25596",
   "metadata": {},
   "outputs": [
    {
     "name": "stdout",
     "output_type": "stream",
     "text": [
      "{'app_id': 0, 'app_name': 'mini3L', 'config': 'HCP', 'GPS': True, 'GPS_dec': [0.25, -0.2], 'nb_paths': 3, 'TR_l': [0.32, 0.71, 1.18], 'TR_t': [0, 0, 0], 'TR': [np.float64(0.32), np.float64(0.71), np.float64(1.18)], 'height': 0.1, 'freq_list': [30000], 'bucking_coil': 0, 'coeff_c_ph': [0.5982, 0.9839, 0.7074], 'coeff_c_qu': [0.00591, 0.0281, 0.0745]}\n"
     ]
    }
   ],
   "source": [
    "print(app_data)"
   ]
  },
  {
   "cell_type": "markdown",
   "id": "c83e56ad-e7f9-491c-b0c6-6a82140caccf",
   "metadata": {
    "jp-MarkdownHeadingCollapsed": true
   },
   "source": [
    "### ``2`` See saved devices list"
   ]
  },
  {
   "cell_type": "markdown",
   "id": "c6e894e9-768b-4d67-8f73-aadded6fb471",
   "metadata": {},
   "source": [
    "Each saved device is given an ``app_id`` which is a unique identifier used in functions.\n",
    "\n",
    "To get the correspondance between ``app_id`` and the wanted configuration, one can use ``geophpy.emi.print_devices`` :\n",
    "* ``uid`` Device's ``\"app_id\"`` value (by default, prints all)"
   ]
  },
  {
   "cell_type": "code",
   "execution_count": 4,
   "id": "44d701a6-c999-4db2-94bb-3ab496cf622e",
   "metadata": {},
   "outputs": [],
   "source": [
    "e = gemi.add_device('mini3L','VCP',3,[30000],gps=True,gps_dec=[0.25,-0.2],\n",
    "                           TR_l=[0.32,0.71,1.18],TR_t=[0,0,0],height=0.1,bucking_coil=0,\n",
    "                           coeff_c_ph=[0.8471,0.8585,0.4039],coeff_c_qu=[0.00599,0.0290,0.0785],save=True,error_code=True)"
   ]
  },
  {
   "cell_type": "code",
   "execution_count": 5,
   "id": "343867e5-92a9-4e13-bb81-70d03d0ef8d8",
   "metadata": {},
   "outputs": [
    {
     "name": "stdout",
     "output_type": "stream",
     "text": [
      "\n",
      "\u001b[0;1;92m--------------------------------------------------\n",
      "\u001b[35m0 : \u001b[0;1;4;33mmini3L (HCP)\n",
      "\u001b[0;92m\tGPS : \u001b[0mTrue\n",
      "\u001b[0;92m\tNb T/R : \u001b[0m3, \n",
      "\u001b[0;92m\tPos l : \u001b[0m[0.32, 0.71, 1.18], \u001b[0;92mPos t : \u001b[0m[0, 0, 0]\n",
      "\u001b[0;92m\tz : \u001b[0m0.1, \u001b[0;92mFrequences : \u001b[0m[30000]\n",
      "\u001b[0;1;92m--------------------------------------------------\n",
      "\u001b[35m1 : \u001b[0;1;4;33mmini3L (VCP)\n",
      "\u001b[0;92m\tGPS : \u001b[0mTrue\n",
      "\u001b[0;92m\tNb T/R : \u001b[0m3, \n",
      "\u001b[0;92m\tPos l : \u001b[0m[0.32, 0.71, 1.18], \u001b[0;92mPos t : \u001b[0m[0, 0, 0]\n",
      "\u001b[0;92m\tz : \u001b[0m0.1, \u001b[0;92mFrequences : \u001b[0m[30000]\n",
      "\u001b[0;1;92m--------------------------------------------------\n",
      "\u001b[0m\n"
     ]
    }
   ],
   "source": [
    "gemi.print_devices()"
   ]
  },
  {
   "cell_type": "code",
   "execution_count": 6,
   "id": "66133e80-248e-43e1-9e84-77fe3357eaae",
   "metadata": {},
   "outputs": [
    {
     "name": "stdout",
     "output_type": "stream",
     "text": [
      "\n",
      "\u001b[0;1;92m--------------------------------------------------\n",
      "\u001b[35m0 : \u001b[0;1;4;33mmini3L (HCP)\n",
      "\u001b[0;92m\tGPS : \u001b[0mTrue\n",
      "\u001b[0;92m\tNb T/R : \u001b[0m3, \n",
      "\u001b[0;92m\tPos l : \u001b[0m[0.32, 0.71, 1.18], \u001b[0;92mPos t : \u001b[0m[0, 0, 0]\n",
      "\u001b[0;92m\tz : \u001b[0m0.1, \u001b[0;92mFrequences : \u001b[0m[30000]\n",
      "\u001b[0;1;92m--------------------------------------------------\n",
      "\u001b[0m\n"
     ]
    }
   ],
   "source": [
    "gemi.print_devices(0)"
   ]
  },
  {
   "cell_type": "markdown",
   "id": "8de16314-1719-4302-ac2b-c3f1b3088278",
   "metadata": {
    "jp-MarkdownHeadingCollapsed": true
   },
   "source": [
    "### ``3`` Modify device"
   ]
  },
  {
   "cell_type": "markdown",
   "id": "593a3bdb-4415-4538-a4db-acea04afc8a1",
   "metadata": {},
   "source": [
    "This operation will keep the current order (``app_id``).\n",
    "\n",
    "``geophpy.emi.modify_device`` :\n",
    "* Device's ``\"app_id\"`` value or loaded device\n",
    "* Dictionary containing all keys to overwrite\n",
    "\n",
    "Output :\n",
    "* Updated device's configuration dictionary\n",
    "\n",
    "*Note : modifying a loaded device will not change any saved configuration.*"
   ]
  },
  {
   "cell_type": "code",
   "execution_count": 7,
   "id": "05974a32-20ae-4866-b538-e76dacf56080",
   "metadata": {},
   "outputs": [
    {
     "name": "stdout",
     "output_type": "stream",
     "text": [
      "\u001b[0;1;92m--------------------------------------------------\n",
      "\u001b[35m0 : \u001b[0;1;4;33mmini3L (HCP)\n",
      "\u001b[0;92m\tGPS : \u001b[0mTrue\n",
      "\u001b[0;92m\tNb T/R : \u001b[0m3, \n",
      "\u001b[0;92m\tPos l : \u001b[0m[0.32, 0.71, 1.18], \u001b[0;92mPos t : \u001b[0m[0, 0, 0]\n",
      "\u001b[0;92m\tz : \u001b[0m0.1, \u001b[0;92mFrequences : \u001b[0m[30000]\n",
      "\u001b[0;1;92m--------------------------------------------------\n",
      "\u001b[0m\n"
     ]
    }
   ],
   "source": [
    "app_data = gemi.modify_device(0,{\"app_name\" : \";)\"})"
   ]
  },
  {
   "cell_type": "markdown",
   "id": "cae6cc83-cd70-4258-a1f6-6ffe8660b7a4",
   "metadata": {},
   "source": [
    "This function prints the old values (for verification purposes).\n",
    "\n",
    "We can then check that the changes have indeed been applied."
   ]
  },
  {
   "cell_type": "code",
   "execution_count": 8,
   "id": "050d1387-c3f7-4228-ab5e-cca504773c75",
   "metadata": {},
   "outputs": [
    {
     "name": "stdout",
     "output_type": "stream",
     "text": [
      "\n",
      "\u001b[0;1;92m--------------------------------------------------\n",
      "\u001b[35m0 : \u001b[0;1;4;33m;) (HCP)\n",
      "\u001b[0;92m\tGPS : \u001b[0mTrue\n",
      "\u001b[0;92m\tNb T/R : \u001b[0m3, \n",
      "\u001b[0;92m\tPos l : \u001b[0m[0.32, 0.71, 1.18], \u001b[0;92mPos t : \u001b[0m[0, 0, 0]\n",
      "\u001b[0;92m\tz : \u001b[0m0.1, \u001b[0;92mFrequences : \u001b[0m[30000]\n",
      "\u001b[0;1;92m--------------------------------------------------\n",
      "\u001b[35m1 : \u001b[0;1;4;33mmini3L (VCP)\n",
      "\u001b[0;92m\tGPS : \u001b[0mTrue\n",
      "\u001b[0;92m\tNb T/R : \u001b[0m3, \n",
      "\u001b[0;92m\tPos l : \u001b[0m[0.32, 0.71, 1.18], \u001b[0;92mPos t : \u001b[0m[0, 0, 0]\n",
      "\u001b[0;92m\tz : \u001b[0m0.1, \u001b[0;92mFrequences : \u001b[0m[30000]\n",
      "\u001b[0;1;92m--------------------------------------------------\n",
      "\u001b[0m\n"
     ]
    }
   ],
   "source": [
    "gemi.print_devices()"
   ]
  },
  {
   "cell_type": "code",
   "execution_count": 10,
   "id": "fe17756b-32d8-4e74-adab-6a9074bf9905",
   "metadata": {},
   "outputs": [
    {
     "name": "stdout",
     "output_type": "stream",
     "text": [
      ";)\n"
     ]
    }
   ],
   "source": [
    "print(app_data[\"app_name\"])"
   ]
  },
  {
   "cell_type": "markdown",
   "id": "4ac6f599-cefc-4ce0-8414-d8de6a352d95",
   "metadata": {
    "jp-MarkdownHeadingCollapsed": true
   },
   "source": [
    "### ``4`` Delete device"
   ]
  },
  {
   "cell_type": "markdown",
   "id": "4252e889-6f91-4a11-b540-28f339c26d04",
   "metadata": {},
   "source": [
    "This operation will shift the current order (``app_id``) by one for every configuration that come after.\n",
    "\n",
    "``geophpy.emi.remove_device`` :\n",
    "* Device's ``\"app_id\"`` value"
   ]
  },
  {
   "cell_type": "code",
   "execution_count": 11,
   "id": "5b437507-6065-4c2d-a5f4-d63af97c218f",
   "metadata": {},
   "outputs": [],
   "source": [
    "gemi.remove_device(0)"
   ]
  },
  {
   "cell_type": "code",
   "execution_count": 12,
   "id": "62fd36a1-b614-4c50-85a0-4978e1042205",
   "metadata": {},
   "outputs": [
    {
     "name": "stdout",
     "output_type": "stream",
     "text": [
      "\n",
      "\u001b[0;1;92m--------------------------------------------------\n",
      "\u001b[35m0 : \u001b[0;1;4;33mmini3L (VCP)\n",
      "\u001b[0;92m\tGPS : \u001b[0mTrue\n",
      "\u001b[0;92m\tNb T/R : \u001b[0m3, \n",
      "\u001b[0;92m\tPos l : \u001b[0m[0.32, 0.71, 1.18], \u001b[0;92mPos t : \u001b[0m[0, 0, 0]\n",
      "\u001b[0;92m\tz : \u001b[0m0.1, \u001b[0;92mFrequences : \u001b[0m[30000]\n",
      "\u001b[0;1;92m--------------------------------------------------\n",
      "\u001b[0m\n"
     ]
    }
   ],
   "source": [
    "gemi.print_devices()"
   ]
  },
  {
   "cell_type": "markdown",
   "id": "d67f318a-61e7-4175-b767-b8c7034f3f04",
   "metadata": {
    "jp-MarkdownHeadingCollapsed": true
   },
   "source": [
    "### ``5`` Load device from list"
   ]
  },
  {
   "cell_type": "markdown",
   "id": "7d85b39e-20ff-411e-b903-0919c21bb44b",
   "metadata": {},
   "source": [
    "``geophpy.emi.find_device`` :\n",
    "* Device's ``\"app_id\"`` value\n",
    "\n",
    "Output :\n",
    "* Device's configuration dictionary"
   ]
  },
  {
   "cell_type": "code",
   "execution_count": 13,
   "id": "f9fa77d3-a89e-4636-ad3c-601a7c9bed14",
   "metadata": {},
   "outputs": [
    {
     "name": "stdout",
     "output_type": "stream",
     "text": [
      "\u001b[0;1;92m--------------------------------------------------\n",
      "\u001b[35m0 : \u001b[0;1;4;33mmini3L (VCP)\n",
      "\u001b[0;92m\tGPS : \u001b[0mTrue\n",
      "\u001b[0;92m\tNb T/R : \u001b[0m3, \n",
      "\u001b[0;92m\tPos l : \u001b[0m[0.32, 0.71, 1.18], \u001b[0;92mPos t : \u001b[0m[0, 0, 0]\n",
      "\u001b[0;92m\tz : \u001b[0m0.1, \u001b[0;92mFrequences : \u001b[0m[30000]\n",
      "\u001b[0;1;92m--------------------------------------------------\n",
      "\u001b[0m\n"
     ]
    }
   ],
   "source": [
    "app_data = gemi.find_device(0)"
   ]
  },
  {
   "cell_type": "code",
   "execution_count": 14,
   "id": "3504dfef-0d46-4d13-8993-09d860b2b321",
   "metadata": {},
   "outputs": [
    {
     "name": "stdout",
     "output_type": "stream",
     "text": [
      "{'app_id': 0, 'app_name': 'mini3L', 'config': 'VCP', 'GPS': True, 'GPS_dec': [0.25, -0.2], 'nb_paths': 3, 'TR_l': [0.32, 0.71, 1.18], 'TR_t': [0, 0, 0], 'TR': [0.32, 0.71, 1.18], 'height': 0.1, 'freq_list': [30000], 'bucking_coil': 0, 'coeff_c_ph': [0.8471, 0.8585, 0.4039], 'coeff_c_qu': [0.00599, 0.029, 0.0785]}\n"
     ]
    }
   ],
   "source": [
    "print(app_data)"
   ]
  },
  {
   "cell_type": "code",
   "execution_count": null,
   "id": "b46aed2c-767f-4473-9b0e-3ebb1429cf7b",
   "metadata": {},
   "outputs": [],
   "source": []
  }
 ],
 "metadata": {
  "kernelspec": {
   "display_name": "spyder-env",
   "language": "python",
   "name": "spyder-env"
  },
  "language_info": {
   "codemirror_mode": {
    "name": "ipython",
    "version": 3
   },
   "file_extension": ".py",
   "mimetype": "text/x-python",
   "name": "python",
   "nbconvert_exporter": "python",
   "pygments_lexer": "ipython3",
   "version": "3.13.3"
  }
 },
 "nbformat": 4,
 "nbformat_minor": 5
}
