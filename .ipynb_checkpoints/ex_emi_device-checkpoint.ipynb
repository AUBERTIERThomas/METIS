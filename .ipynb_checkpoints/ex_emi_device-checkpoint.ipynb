{
 "cells": [
  {
   "cell_type": "markdown",
   "id": "551bb747-8985-4a76-8edb-fa44d65edec1",
   "metadata": {},
   "source": [
    "### JSON files management\n",
    "---\n",
    "<b>METIS, Éveha International</b><br>\n",
    "Author : Thomas Aubertier (thomas.aubertier@etu.sorbonne-universite.fr)\n",
    "---"
   ]
  },
  {
   "cell_type": "markdown",
   "id": "0ca56ae8-372d-422a-b491-c1d22f1a181a",
   "metadata": {},
   "source": [
    "This notebook describe how to save and use data related to devices."
   ]
  },
  {
   "cell_type": "markdown",
   "id": "e94e0225-0fd1-4e4a-a07b-b2fdaa185161",
   "metadata": {},
   "source": [
    "### ``0`` Import"
   ]
  },
  {
   "cell_type": "markdown",
   "id": "73e3fe7a-ca02-4ef3-88f2-4846727b40db",
   "metadata": {},
   "source": [
    "Importing required libraries"
   ]
  },
  {
   "cell_type": "code",
   "execution_count": 1,
   "id": "45bd9a92-6cc8-4f1c-b251-8dd1df3b1662",
   "metadata": {},
   "outputs": [],
   "source": [
    "import os\n",
    "import numpy as np\n",
    "import matplotlib.pyplot as plt\n",
    "import pandas as pd\n",
    "\n",
    "import geophpy as geo\n",
    "import geophpy.emi as gemi\n",
    "import geophpy.visualization as gvis"
   ]
  },
  {
   "cell_type": "markdown",
   "id": "992d7d14-80a0-4998-9c7a-cd87e20839aa",
   "metadata": {},
   "source": [
    "### ``1`` Create and add device"
   ]
  },
  {
   "cell_type": "markdown",
   "id": "19528ec4-7e68-4ad6-b4f4-0e9c39e84562",
   "metadata": {},
   "source": [
    "Devices are dictionaries containing relevant data around the prospection.\n",
    "\n",
    "They are not directly referencing a specific device, but the configuration used at the time of the prospection. Adding a GPS antenna or changing coil positions makes a new configuration, then should correspond to a new device entry.\n",
    "\n",
    "Creating a new device configuration can be done using ``geophpy.add_device`` :\n",
    "* Device name (not used in processes)\n",
    "* Coil configuration (HCP, VCP, PAR... ,see documentation)\n",
    "* Number of coils\n",
    "* Frequence list (in coil order, else add one value)\n",
    "* ``gps`` If got gps data (default True\n",
    "* ``gps_dec`` Shift between the GPS antenna and the device center, on both axis (should be ``[0,0]`` if none, by default), in meters\n",
    "* ``TR_l`` Distance between each coil and the transmitter coil, on lateral axis (by default 0), in meters\n",
    "* ``TR_t``Distance between each coil and the transmitter coil, on transversal axis (by default 0), in meters\n",
    "* ``height`` Height of the device during the prospection (default 0.1), in meters\n",
    "* ``bucking_coil`` Index of the bucking coil between coils (from 1 to the number of coils), if none set to 0 (default)\n",
    "* ``coeff_c_ph`` Device constant given by the maker (in phase, by default is set to an array of 1s) ; can be computed from ball calibration with ``geophpy.emi.ball_calibr``\n",
    "* ``coeff_c_qu`` Device constant given by the maker (in quadrature, by default is set to an array of 1s)\n",
    "* ``config_angles`` If ``config = \"CUS\"`` (custom), define the angles of each coil (not implemented in most procedures)\n",
    "* ``save`` Save configuration in ``geophpy`` (default True)\n",
    "* ``error_code`` Instead of returning the dictionary, return an error code as an int (default False)"
   ]
  },
  {
   "cell_type": "code",
   "execution_count": null,
   "id": "2ba5b25d-dd74-42cc-926f-dfdc70a0128e",
   "metadata": {},
   "outputs": [],
   "source": [
    "app_data = gemi.add_device('mini3L','VCP',3,[30000],gps=True,gps_dec=[0.25,-0.2],\n",
    "                           TR_l=[0.32,0.71,1.18],TR_t=[0,0,0],height=0.1,bucking_coil=0,\n",
    "                           coeff_c_ph=[0.5982,0.9839,0.7074],coeff_c_qu=[0.00599,0.0290,0.0785],save=True)"
   ]
  }
 ],
 "metadata": {
  "kernelspec": {
   "display_name": "spyder-env",
   "language": "python",
   "name": "spyder-env"
  },
  "language_info": {
   "codemirror_mode": {
    "name": "ipython",
    "version": 3
   },
   "file_extension": ".py",
   "mimetype": "text/x-python",
   "name": "python",
   "nbconvert_exporter": "python",
   "pygments_lexer": "ipython3",
   "version": "3.13.3"
  }
 },
 "nbformat": 4,
 "nbformat_minor": 5
}
